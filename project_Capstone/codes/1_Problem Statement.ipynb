{
 "cells": [
  {
   "cell_type": "markdown",
   "metadata": {},
   "source": [
    "# Stock Price Predictor using Trump's tweets (Twitter Sentiment Analysis)"
   ]
  },
  {
   "cell_type": "markdown",
   "metadata": {},
   "source": [
    "# Executive Summary"
   ]
  },
  {
   "cell_type": "markdown",
   "metadata": {},
   "source": [
    "The challenge of this project is to accurately predict the future closing value of a given stock across a given period of time in the future. \n",
    "\n",
    "For this project I explored the use of various machine learning methods to predict the closing price of the S&P 500 Index using a dataset of past prices based on closing price of the Trump Twitter Index. "
   ]
  },
  {
   "cell_type": "markdown",
   "metadata": {},
   "source": [
    "<b>Methodology - in a nutshell:</b>\n",
    "\n",
    "1. Data Collection \n",
    " - President Trump’s tweets (excluding retweets by him) were collected Jan 20 2017 (Trump sworn in as the President of U.S.) to Jan 20, 2020. A total of 13,020 tweets  were collected from [this source](http://www.trumptwitterarchive.com/)\n",
    " - S&P 500 Index information for the same period collected from Yahoo! Finance\n",
    " \n",
    "2. Data Cleaning & EDA\n",
    " - Clean tweet corpus\n",
    "    - Handling missing data, if any\n",
    " - Natural Language Processing\n",
    "    - Tokenisation\n",
    "    - Stop words removal\n",
    "    - Stemming/Lemmetisation\n",
    "    \n",
    "3. Tweet Sentimental Analysis (using VADER) i.e. each tweet was assigned a sentiment score \n",
    " - Sentiment analysis task is very much field specific. Tweets are classified as positive, negative and neutral based on the sentiment present. Tweets are annotated as 1 for Positive, 0 for Neutral and -1 for Negative emotions. \n",
    " - Compute tweet mood and generate data set for stock prediction\n",
    "\n",
    "\n",
    "4. Preprocessing/Feature Engineering\n",
    " - Generate feature set and data set from processed tweet\n",
    "    \n",
    "5. Model (Train and Validate) & Evaluate\n",
    " - Predict stock market trend / reaction of the market (rise / fall / stays the same) over a certain time after Trump makes a tweet (using tweet sentiment analysis) using different models:\n",
    "    - Linear Regression\n",
    "    - LSTM\n",
    "    - Classification model (Naives Bayes and Logistic Regression)\n",
    "   \n",
    "6. Limitations & Conclusions"
   ]
  },
  {
   "cell_type": "markdown",
   "metadata": {},
   "source": [
    "<b>Evaluation Measures</b>\n",
    "\n",
    "- Mean Squared Error for Linear Regression Model & LSTM\n",
    "- Loss function and accuracy percentage for Classification model "
   ]
  },
  {
   "cell_type": "markdown",
   "metadata": {},
   "source": [
    "# Background"
   ]
  },
  {
   "cell_type": "markdown",
   "metadata": {},
   "source": [
    "<b>Motivation</b>\n",
    "\n",
    "After accumulating some savings from my first year of working career, I started my own personal portfolio of stocks investing. As a trained Chartered Accountant, my basis of stock analysis was naturally from fundamental analysis which observes a company’s health from their finanical statements like Income Statement, Balance Sheet and Cash Flow Statement, including footnotes, to determine if the company has value relative to their current stock price. \n",
    "\n",
    "That said, when it comes to stocks investing, apart from Fundamental analysis, there are many different approaches of analysis to find the right stock that is worth the money:   \n",
    "- Technical analysis - focuses on the study of past and present price action to predict the probability of future price movements. It determines price patterns over time in hope that these patterns will emerge again. \n",
    "- Sentimental Analysis - this is based on the public's view or general feeling towards a news about a specific stock i.e. if they perceived the news as negative, then the stock will potentially decrease in value, vice versa. \n",
    "\n",
    "As I wanted to apply something that I have learnt from this course, hence taking a sentimental analysis approach to predict stock market movement sparked my interest as short term prices in markets are heavily influenced by news (including social media) sentiment. "
   ]
  },
  {
   "cell_type": "markdown",
   "metadata": {},
   "source": [
    "# Problem Statement"
   ]
  },
  {
   "cell_type": "markdown",
   "metadata": {},
   "source": [
    "<b> Social media: Twitter</b>\n",
    "\n",
    "In this contemporary era, the use of social media has reached unprecedented levels. On social media, the information about public feelings has become abundant and has transformed to a preferred platform by many to share public emotions about any topic, which has had a significant impact on overall public opinion. Being in our generation where social media is highly integrated in our lives, hence I wanted to explore social media (specifically Twitter) as the medium for news (instead from the traditional news agencies) sentiment. \n",
    "\n",
    "Among all social media, Twitter is a popular micro-blogging application that allows users to follow, comment other user’s thoughts or/and share short messages in real time about events or express their own opinion. More than million users post over 140 million tweets every day. This situation makes Twitter like a corpus with valuable data for researchers. Each tweet is of 140 characters long and speaks public opinion on a topic concisely. The information exploited from tweets are very useful for making predictions. Sentiment analysis of twitter data and sentiment classification is the task of judging opinion in a piece of text as positive, negative or neutral. Sentiment analysis of the collected tweets can then be used for prediction model for finding and analysing correlation between contents of news articles and stock prices and then making predictions for future prices will be developed by using machine learning.\n",
    "\n",
    "Previous research has shown that tweets posted on their personal twitter account from a prominent figure like the President of the United States (i.e. Donald Trump who currently has 77.8m followers), Tesla founder Elon Musk (who currently has 33.2m followers) and current UK Prime Minister Boris Johnson (who currently has 2.4m followers) are able to influence investor confidence and may be useful as a signal for traders. For this project, I have decided to analyse President Trump’s tweets specifically as he has one of the highest number of followers amongst these prominent figures. \n",
    "\n",
    "<b> Stock market: S&P500 Index </b>\n",
    "\n",
    "To measure the effect these tweets have on stock market returns, I have decided to use the S&P500 Index (a weighted average of the 500 leading and largest companies trading on the US stock exchange, with over USD 7.8 trillion benchmarked to the index) specifically, as the S&P500 Index is commonly used as a measure of the general level of stock prices, as it includes both growth stocks and value stocks. Also, the S&P500 Index is generally regarded as the best single measure of large-cap U.S. equities, which will be relevant as Donald Trump is the President of the U.S. Additionally, the S&P500 index captures around 80% coverage of available market capitalisation and a history of information since it began on March 4, 1957. Technology has allowed the index to be calculated and disseminated in real time. \n",
    "\n",
    "<b> The Efficient Market Hypothesis</b>\n",
    "\n",
    "In a broad sense, traders and portfolio managers make decisions on whether to buy, sell or hold specific equities (shares of a company) based on the fundamentals of the firm, its management, and expected value in the future. It is therefore essential to keep up with company news, which may involve earnings calls, new product announcements, and in recent times, news delivered by tweets. \n",
    "\n",
    "This ties in with an idea called the Efficient Market Hypothesis (EMH). The EMH maintains that shares trade at their intrinsic value on stock exchanges i.e. all information about a company, its management, and its valuation are continuously expressed in the current share price. This implies that when Trump tweets, this information will be reflected in financial markets even before it hits headlines. \n",
    "\n",
    "<b> Problem statement </b>\n",
    "\n",
    "Therefore, this project analyses the effectiveness of using President Trump’s tweets as a signal for predicting changes (rise / fall / stays the same) in S&P500 prices. \n",
    "\n",
    "Social media makes the spreading of news faster and broader, but at the same time, brings volatility to the stock market. Making predictions on the news events and react quickly gives comparative advantage in making more profits or reduce losses. Therefore, in this project, I try to understand and predict the impact of a very unique kind of news, tweets from President Trump, which has become the most uncertainty in the market. I try to model the market’s reaction to his tweets sentiment in the short term using machine learning.\n",
    "\n",
    "To analyse the effectiveness of using President Trump’s tweets as a signal for predicting changes (rise / fall / stays the same) in S&P500 prices in the short term, the following models were performed:\n",
    "- Linear regression;\n",
    "- Long Short Term Memory Recurrent Neural Network(LSTM) and;\n",
    "- Classification models (Naives Bayes)"
   ]
  },
  {
   "cell_type": "markdown",
   "metadata": {},
   "source": [
    "<i>Disclaimer: This project has been simplified and I doubt any major profit will be made from the models created, but it is slightly better than a wild guess. All investing is subject to risk, including the possible loss of the money invested. Remember that the stock price can be affected by many different factors. \n",
    "\n",
    "The materials in this project are for information, education, and noncommercial purposes only. Although this project may provide data, information, and content relating to investment approaches and opportunities to buy or sell securities, you should not construe any such information or other content available through this project as financial, legal or tax advice. You alone will bear the sole responsibility of evaluating the merits and risks associated with the use of any materials in this project before making any decisions based on this project. In exchange for using such materials in this project, you agree not to hold the owner of this project or its third-party information providers liable for any possible claim for damages arising from any decision you make based on the materials made available to you through this project. Thank you.</i>"
   ]
  },
  {
   "cell_type": "markdown",
   "metadata": {},
   "source": [
    "### Assumptions"
   ]
  },
  {
   "cell_type": "markdown",
   "metadata": {},
   "source": [
    "- The historical returns for (n-1) days can be used to predict the return of nth day. That is, a stock’s returns over a long enough trading period contain information about the next day.\n",
    "- The official Twitter account of Trump are extremely active before big changes, and the messages tend to be more positive.\n",
    "- Research shows that news affects stock market movement and indicates the possibility of predicting the market by using the news as a signal to a coming movement with an acceptable accuracy percentage. Our hypothesis is that if a company has positive news it will lead its stock price to increase in the near future. Also, if a company has a negative news it will lead its stock price to decrease in the near future."
   ]
  },
  {
   "cell_type": "markdown",
   "metadata": {},
   "source": [
    "# Data collection"
   ]
  },
  {
   "cell_type": "markdown",
   "metadata": {},
   "source": [
    "<b>Twitter</b>\n",
    "\n",
    "President Trump’s tweets (excluding retweets by him) were collected:\n",
    "- Period: \n",
    " - Jan 20 2017 (Trump sworn in as the President of U.S.) to Jan 20, 2020. \n",
    "- Total number of tweets collected: \n",
    " - 13,020 \n",
    "- Columns of tweets:\n",
    " - source\n",
    " - text\n",
    " - created_at\n",
    " - retweet_count\n",
    " - favorite_count\n",
    " - is_retweet (to ensure that no retweets were selected)\n",
    " - id_str\n",
    "- Data source: http://www.trumptwitterarchive.com/\n",
    "\n",
    "<b>S&P500 Index</b>\n",
    "\n",
    "Obtained all of the trading records of S&P 500 Index:\n",
    "- Period: \n",
    " - Jan 20 2017 to Jan 20, 2020 (consistent time period as twitter data collected)\n",
    "- Total number of trading days:\n",
    " - 755\n",
    "- Columns of finance data on a daily basis:\n",
    " - High\n",
    " - Low\n",
    " - Open (Opening price)\n",
    " - Close (Closing price)\n",
    " - Volume\n",
    " - Adj Close\n",
    "- Data source: Yahoo! Finance"
   ]
  },
  {
   "cell_type": "markdown",
   "metadata": {},
   "source": [
    "<b>Refer to separate notebook for further details:</b>\n",
    "\n",
    "- 2.1_Data Cleaning_Trump Tweets\n",
    "- 2.2_Data Collection_Trading S&P500"
   ]
  }
 ],
 "metadata": {
  "kernelspec": {
   "display_name": "Python 3",
   "language": "python",
   "name": "python3"
  },
  "language_info": {
   "codemirror_mode": {
    "name": "ipython",
    "version": 3
   },
   "file_extension": ".py",
   "mimetype": "text/x-python",
   "name": "python",
   "nbconvert_exporter": "python",
   "pygments_lexer": "ipython3",
   "version": "3.7.4"
  }
 },
 "nbformat": 4,
 "nbformat_minor": 2
}
