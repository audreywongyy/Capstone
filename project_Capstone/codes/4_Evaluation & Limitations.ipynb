{
 "cells": [
  {
   "cell_type": "markdown",
   "metadata": {},
   "source": [
    "# Model Evaluation & Conclusion"
   ]
  },
  {
   "cell_type": "markdown",
   "metadata": {},
   "source": [
    "| Model                                              | $RMSE$|\n",
    "|----------------------------------------------------|-------|\n",
    "| Baseline: Linear Regression                        | 108.84|\n",
    "| Auto Regressive Inteegration Moving Average (ARIMA)| 36.61 |\n",
    "| Long Short-Term Memory (LSTM)                      | 37.73 |"
   ]
  },
  {
   "cell_type": "markdown",
   "metadata": {},
   "source": [
    "> From the baseline Linear Regression model performed in notebook \"3.1_Model_Linear Regression\", the train score (107.63) is lower than the test (108.84) score, which indicates that the the Linear Regression model is not overfit.  The baseline RMSE score is 108.84. Furthermore, the R–Squared score of 0.836307 shows that the model has 83.6% accuracy rate in predicting the values. Linear regression is a simple technique and fairly easy to interpret, however there are a few significant disadvantages of using linear regression with time series such as in using regression algorithms, the model tend not to take into account the previous values from the point of prediction. Hence, the predictions may not be accurate despite the model having a 83.6% accuracy score, which is important to note that predicting market prices is a difficult task as there are many other individual factors that may affect stock returns such as interest rates, inflation expectations, and other idiosyncratic factors.\n",
    ">\n",
    "> In notebook \"3.2_Model_ARIMA\", ARIMA model was explored. This model usually performs well on time series datasets abd appears to live up to its reputation in this case - with a RMSE of 36.61 (significant improvement from baseline RMSE of 108.84). \n",
    "> \n",
    "> In notebook \"3.3_Model_LSTM\", LSTM model was performed and appeared to perform better than the baseline model as RMSE of 37.73 is an improvement from the baseline RMSE of 108.84. However, the ARIMA model (with RMSE of 36.61) appears to perform slightly better than the LSTM. \n",
    ">\n",
    "> The LSTM model can be tuned for various parameters such as changing the number of LSTM layers, adding dropout value or increasing the number of epochs. But it is not certain that the predictions from LSTM is enough to identify whether the stock price will increase or decrease as stock price is affected by the news about the company and other factors like demonetisation or merger/demerger of the companies. There are certain intangible factors as well which can often be impossible to predict beforehand.\n",
    "> \n",
    "> Therefore, a machine learning classifier was explored to determine whether a stock is a Buy, Sell, or a Hold instead as in notebook \"3.4a_Model_Classification\" - results below. "
   ]
  },
  {
   "cell_type": "markdown",
   "metadata": {},
   "source": [
    "|$Accuracy$ |Baseline|Naïve Bayes|Logistic Regression|\n",
    "|-----------|--------|-----------|-------------------|\n",
    "|Score      |0.37    |<b>0.53</b>|0.43               |"
   ]
  },
  {
   "cell_type": "markdown",
   "metadata": {},
   "source": [
    "|$Precision$|Baseline|Naïve Bayes|\n",
    "|-----------|--------|-----------|\n",
    "|Sell       |0.23    |<b>0.46</b>|\n",
    "|Buy        |0.36    |<b>0.39</b>|\n",
    "|Hold       |0.45    |<b>0.59</b>|\n"
   ]
  },
  {
   "cell_type": "markdown",
   "metadata": {},
   "source": [
    "> In the classification models performed, the baseline accuracy score is 0.37. The accuracy for the Logistic Regression (0.43) model and Naïve Bayes (0.53) model are both better than the baseline. The accuracy score for the Naïve Bayes model is better than the Logistic Regression, which indicates a better model.\n",
    "> \n",
    "> However, it is important to look at the precision, recall and F-1 scores as well. The overall scores for the Naïve Bayes model appear to perform better than the baseline, with the exception of the recall score for sell and buy and F-1 score for sell. The recall score indicates when the actual value is positive (to sell and buy) and how often the model's prediction is correct. In the case of predicting stock prices, investors will be most concern with the precision score. Therefore, selecting the Naïve Bayes model as the best model to predict unseen data. "
   ]
  },
  {
   "cell_type": "markdown",
   "metadata": {},
   "source": [
    "# Limitations"
   ]
  },
  {
   "cell_type": "markdown",
   "metadata": {},
   "source": [
    "Finally, it is important to note that this project analysis does not take into account many factors and has its limitations:\n",
    "- Dataset collected does not fully map the real public global sentiment as it only considers the social media platform Twitter which is mainly english speaking people. There are other social media platforms that provide insightful news sentiment such as Facebook, Reddit, WeChat etc. \n",
    "- The Vader Sentiment Analysis tool has limitations in accurately gauging the sentiment of sarcasm, which Donald Trump is known to be. \n",
    "- Sentiment analysis is an inherently a subjective process: different algorithms may not agree upon the exact sentiment score that should be assigned to a piece of text.\n",
    "- High fluctuations in prices: As the prices of the stocks fluctuate a lot, we have used a technique called smoothing which is used in financial markets to take a moving average of the values, which results in comparatively smooth curves.\n",
    "- Sample size of ~10,000 tweets may not be large enough to draw the most accurate conclusion"
   ]
  },
  {
   "cell_type": "markdown",
   "metadata": {},
   "source": [
    "<b>Further work:</b>\n",
    "- It’s possible to obtain a higher correlation if the actual mood is studied. It may be hypothesized that people’s mood indeed affect their investment decisions, hence the correlation. But in that case, there’s no direct correlation between the people who invest in stocks and who use twitter more frequently, though there certainly is an indirect correlation - investment decisions of people may be affected by the moods of people around them, ie. the general public sentiment. All these remain as areas of future research.\n",
    "- Sentiment analysis is an inherently a subjective process: different algorithms may not agree upon the exact sentiment score that should be assigned to a piece of text. We stress that the sentiment score of an algorithm is a perceived value, and whether this score closely matches the sentiment of the text is open to further analysis. \n",
    "- Adding Granularity: this project only looked at daily stock price data. This is different from actual hedge funds and quantitative trading institutions, which study price data at a far more granular level, on the order of minutes or even seconds. Further stuides to look at intra-day trading data in addition to closing price data. By observing intra-day trends, it will create more robust models that capitalise on sudden changes in momentum during intra-day trading. Individual stocks often have price swings that last only for a couple minutes, which an intra-day model can analyze, and then use to predict price direction in the next few seconds or minutes. This is how such financial institutions make trading profits.\n",
    "- Feature Selection: Feature selection often has the biggest impact on a machine learning model’s accuracy. Another area for future work is to add to more to the feature list. Future work would involve adding features related to the specific company and related to broader macroeconomic factors. Features related to the specific company include its Price/Earnings ratio, its market cap, working capital ratio, cost-of-capital, etc. Features related to broader factors include interest rate, inflation, GDP growth rate, etc. Going forward, perhaps a model controlling for certain factors such as market size, momentum, and volatility with a larger sample size may produce some interesting results. "
   ]
  },
  {
   "cell_type": "markdown",
   "metadata": {},
   "source": [
    "From the project, there is a correlation between the Trump Twitter Index and S&P500 Return, the positive correlation of 0.71 implies that Trump’s tweets do in fact move with the stock market. However, importantly, correlation does not imply causation. In other words, we have no indication of the direction of the relationship. There are also many individual factors that may affect stock returns such as interest rates, inflation expectations, and other idiosyncratic factors. The interpretation of the relationship found is more likely that the tweets coincide with market-moving events such as a surprising economic data release or a monetary policy decision after markets have reacted to the data. \n",
    "\n",
    "Therefore, it is not possible to conclude that with 100% confidence that Trump’s tweets pre-emptively affect the stock market. However, it is more than likely that the sentiment of the tweets correlates positively with market returns."
   ]
  },
  {
   "cell_type": "markdown",
   "metadata": {},
   "source": [
    "### References"
   ]
  },
  {
   "cell_type": "markdown",
   "metadata": {},
   "source": [
    "http://cs229.stanford.edu/proj2011/GoelMittal-StockMarketPredictionUsingTwitterSentimentAnalysis.pdf\n",
    "\n",
    "https://software.intel.com/en-us/blogs/2017/07/14/stock-predictions-through-news-sentiment-analysis"
   ]
  },
  {
   "cell_type": "markdown",
   "metadata": {},
   "source": [
    "https://arxiv.org/pdf/1610.09225.pdf"
   ]
  }
 ],
 "metadata": {
  "kernelspec": {
   "display_name": "Python 3",
   "language": "python",
   "name": "python3"
  },
  "language_info": {
   "codemirror_mode": {
    "name": "ipython",
    "version": 3
   },
   "file_extension": ".py",
   "mimetype": "text/x-python",
   "name": "python",
   "nbconvert_exporter": "python",
   "pygments_lexer": "ipython3",
   "version": "3.7.4"
  }
 },
 "nbformat": 4,
 "nbformat_minor": 2
}
